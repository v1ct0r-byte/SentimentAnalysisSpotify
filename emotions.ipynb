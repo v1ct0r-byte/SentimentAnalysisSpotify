{
 "cells": [
  {
   "cell_type": "code",
   "execution_count": 1,
   "metadata": {},
   "outputs": [
    {
     "name": "stderr",
     "output_type": "stream",
     "text": [
      "[nltk_data] Downloading package vader_lexicon to\n",
      "[nltk_data]     C:\\Users\\cargalau\\AppData\\Roaming\\nltk_data...\n",
      "[nltk_data]   Package vader_lexicon is already up-to-date!\n",
      "[nltk_data] Downloading package punkt to\n",
      "[nltk_data]     C:\\Users\\cargalau\\AppData\\Roaming\\nltk_data...\n",
      "[nltk_data]   Package punkt is already up-to-date!\n",
      "[nltk_data] Downloading package stopwords to\n",
      "[nltk_data]     C:\\Users\\cargalau\\AppData\\Roaming\\nltk_data...\n",
      "[nltk_data]   Package stopwords is already up-to-date!\n",
      "[nltk_data] Downloading package wordnet to\n",
      "[nltk_data]     C:\\Users\\cargalau\\AppData\\Roaming\\nltk_data...\n",
      "[nltk_data]   Package wordnet is already up-to-date!\n",
      "[nltk_data] Downloading package omw-1.4 to\n",
      "[nltk_data]     C:\\Users\\cargalau\\AppData\\Roaming\\nltk_data...\n",
      "[nltk_data]   Package omw-1.4 is already up-to-date!\n"
     ]
    },
    {
     "data": {
      "text/plain": [
       "True"
      ]
     },
     "execution_count": 1,
     "metadata": {},
     "output_type": "execute_result"
    }
   ],
   "source": [
    "from helpers import *\n",
    "import pandas as pd\n",
    "import numpy as np\n",
    "import string\n",
    "#library used to count the frequency of words\n",
    "from sklearn.feature_extraction.text import CountVectorizer\n",
    "#To create the sentiment analysis model, tokenization and lemmatization\n",
    "import nltk\n",
    "from nltk.sentiment.vader import SentimentIntensityAnalyzer\n",
    "from nltk import word_tokenize\n",
    "import nltk.data\n",
    "import plotly.express as px\n",
    "\n",
    "nltk.download('vader_lexicon')\n",
    "nltk.download('punkt')\n",
    "nltk.download('stopwords')\n",
    "nltk.download('wordnet')\n",
    "nltk.download('omw-1.4')"
   ]
  },
  {
   "cell_type": "code",
   "execution_count": 3,
   "metadata": {},
   "outputs": [
    {
     "name": "stdout",
     "output_type": "stream",
     "text": [
      "Searching for \"With or without you\" by U2...\n",
      "Done.\n"
     ]
    },
    {
     "ename": "KeyError",
     "evalue": "'lyric'",
     "output_type": "error",
     "traceback": [
      "\u001b[1;31m---------------------------------------------------------------------------\u001b[0m",
      "\u001b[1;31mKeyError\u001b[0m                                  Traceback (most recent call last)",
      "File \u001b[1;32m~\\lib\\site-packages\\pandas\\core\\indexes\\base.py:3080\u001b[0m, in \u001b[0;36mIndex.get_loc\u001b[1;34m(self, key, method, tolerance)\u001b[0m\n\u001b[0;32m   <a href='file:///c%3A/Users/cargalau/lib/site-packages/pandas/core/indexes/base.py?line=3078'>3079</a>\u001b[0m \u001b[39mtry\u001b[39;00m:\n\u001b[1;32m-> <a href='file:///c%3A/Users/cargalau/lib/site-packages/pandas/core/indexes/base.py?line=3079'>3080</a>\u001b[0m     \u001b[39mreturn\u001b[39;00m \u001b[39mself\u001b[39;49m\u001b[39m.\u001b[39;49m_engine\u001b[39m.\u001b[39;49mget_loc(casted_key)\n\u001b[0;32m   <a href='file:///c%3A/Users/cargalau/lib/site-packages/pandas/core/indexes/base.py?line=3080'>3081</a>\u001b[0m \u001b[39mexcept\u001b[39;00m \u001b[39mKeyError\u001b[39;00m \u001b[39mas\u001b[39;00m err:\n",
      "File \u001b[1;32mpandas\\_libs\\index.pyx:70\u001b[0m, in \u001b[0;36mpandas._libs.index.IndexEngine.get_loc\u001b[1;34m()\u001b[0m\n",
      "File \u001b[1;32mpandas\\_libs\\index.pyx:101\u001b[0m, in \u001b[0;36mpandas._libs.index.IndexEngine.get_loc\u001b[1;34m()\u001b[0m\n",
      "File \u001b[1;32mpandas\\_libs\\hashtable_class_helper.pxi:4554\u001b[0m, in \u001b[0;36mpandas._libs.hashtable.PyObjectHashTable.get_item\u001b[1;34m()\u001b[0m\n",
      "File \u001b[1;32mpandas\\_libs\\hashtable_class_helper.pxi:4562\u001b[0m, in \u001b[0;36mpandas._libs.hashtable.PyObjectHashTable.get_item\u001b[1;34m()\u001b[0m\n",
      "\u001b[1;31mKeyError\u001b[0m: 'lyric'",
      "\nThe above exception was the direct cause of the following exception:\n",
      "\u001b[1;31mKeyError\u001b[0m                                  Traceback (most recent call last)",
      "\u001b[1;32mc:\\Users\\cargalau\\Documents\\GitHub\\SentimentAnalysisSpotify\\emotions.ipynb Cell 2'\u001b[0m in \u001b[0;36m<module>\u001b[1;34m\u001b[0m\n\u001b[0;32m      <a href='vscode-notebook-cell:/c%3A/Users/cargalau/Documents/GitHub/SentimentAnalysisSpotify/emotions.ipynb#ch0000001?line=2'>3</a>\u001b[0m df0 \u001b[39m=\u001b[39m search_data(\u001b[39m'\u001b[39m\u001b[39mU2\u001b[39m\u001b[39m'\u001b[39m,\u001b[39m'\u001b[39m\u001b[39mWith or without you\u001b[39m\u001b[39m'\u001b[39m,\u001b[39m1\u001b[39m,access_token)\n\u001b[0;32m      <a href='vscode-notebook-cell:/c%3A/Users/cargalau/Documents/GitHub/SentimentAnalysisSpotify/emotions.ipynb#ch0000001?line=3'>4</a>\u001b[0m df0\n\u001b[1;32m----> <a href='vscode-notebook-cell:/c%3A/Users/cargalau/Documents/GitHub/SentimentAnalysisSpotify/emotions.ipynb#ch0000001?line=4'>5</a>\u001b[0m df \u001b[39m=\u001b[39m clean_lyrics(df0,\u001b[39m'\u001b[39;49m\u001b[39mlyric\u001b[39;49m\u001b[39m'\u001b[39;49m)\n\u001b[0;32m      <a href='vscode-notebook-cell:/c%3A/Users/cargalau/Documents/GitHub/SentimentAnalysisSpotify/emotions.ipynb#ch0000001?line=5'>6</a>\u001b[0m df \u001b[39m=\u001b[39m df[df[\u001b[39m'\u001b[39m\u001b[39mlyric\u001b[39m\u001b[39m'\u001b[39m]\u001b[39m.\u001b[39mnotnull()]\n\u001b[0;32m      <a href='vscode-notebook-cell:/c%3A/Users/cargalau/Documents/GitHub/SentimentAnalysisSpotify/emotions.ipynb#ch0000001?line=6'>7</a>\u001b[0m df\u001b[39m.\u001b[39mto_csv(\u001b[39m'\u001b[39m\u001b[39mlyrics.csv\u001b[39m\u001b[39m'\u001b[39m,index\u001b[39m=\u001b[39m\u001b[39mFalse\u001b[39;00m)\n",
      "File \u001b[1;32mc:\\Users\\cargalau\\Documents\\GitHub\\SentimentAnalysisSpotify\\helpers.py:64\u001b[0m, in \u001b[0;36mclean_lyrics\u001b[1;34m(df, column)\u001b[0m\n\u001b[0;32m     <a href='file:///c%3A/Users/cargalau/Documents/GitHub/SentimentAnalysisSpotify/helpers.py?line=55'>56</a>\u001b[0m \u001b[39m\"\"\"\u001b[39;00m\n\u001b[0;32m     <a href='file:///c%3A/Users/cargalau/Documents/GitHub/SentimentAnalysisSpotify/helpers.py?line=56'>57</a>\u001b[0m \u001b[39mThis function cleans the words without importance and fix the format of the  dataframe's column lyrics \u001b[39;00m\n\u001b[0;32m     <a href='file:///c%3A/Users/cargalau/Documents/GitHub/SentimentAnalysisSpotify/helpers.py?line=57'>58</a>\u001b[0m \n\u001b[1;32m   (...)\u001b[0m\n\u001b[0;32m     <a href='file:///c%3A/Users/cargalau/Documents/GitHub/SentimentAnalysisSpotify/helpers.py?line=60'>61</a>\u001b[0m \u001b[39mcolumn = name of the column to clean\u001b[39;00m\n\u001b[0;32m     <a href='file:///c%3A/Users/cargalau/Documents/GitHub/SentimentAnalysisSpotify/helpers.py?line=61'>62</a>\u001b[0m \u001b[39m\"\"\"\u001b[39;00m\n\u001b[0;32m     <a href='file:///c%3A/Users/cargalau/Documents/GitHub/SentimentAnalysisSpotify/helpers.py?line=62'>63</a>\u001b[0m df \u001b[39m=\u001b[39m df\n\u001b[1;32m---> <a href='file:///c%3A/Users/cargalau/Documents/GitHub/SentimentAnalysisSpotify/helpers.py?line=63'>64</a>\u001b[0m df[column] \u001b[39m=\u001b[39m df[column]\u001b[39m.\u001b[39mstr\u001b[39m.\u001b[39mlower()\n\u001b[0;32m     <a href='file:///c%3A/Users/cargalau/Documents/GitHub/SentimentAnalysisSpotify/helpers.py?line=64'>65</a>\u001b[0m df[column] \u001b[39m=\u001b[39m df[column]\u001b[39m.\u001b[39mstr\u001b[39m.\u001b[39mreplace(\u001b[39mr\u001b[39m\u001b[39m\"\u001b[39m\u001b[39mverse |[1|2|3]|chorus|bridge|outro\u001b[39m\u001b[39m\"\u001b[39m,\u001b[39m\"\u001b[39m\u001b[39m\"\u001b[39m)\u001b[39m.\u001b[39mstr\u001b[39m.\u001b[39mreplace(\u001b[39m\"\u001b[39m\u001b[39m[\u001b[39m\u001b[39m\"\u001b[39m,\u001b[39m\"\u001b[39m\u001b[39m\"\u001b[39m)\u001b[39m.\u001b[39mstr\u001b[39m.\u001b[39mreplace(\u001b[39m\"\u001b[39m\u001b[39m]\u001b[39m\u001b[39m\"\u001b[39m,\u001b[39m\"\u001b[39m\u001b[39m\"\u001b[39m)\n\u001b[0;32m     <a href='file:///c%3A/Users/cargalau/Documents/GitHub/SentimentAnalysisSpotify/helpers.py?line=65'>66</a>\u001b[0m df[column] \u001b[39m=\u001b[39m df[column]\u001b[39m.\u001b[39mstr\u001b[39m.\u001b[39mlower()\u001b[39m.\u001b[39mstr\u001b[39m.\u001b[39mreplace(\u001b[39mr\u001b[39m\u001b[39m\"\u001b[39m\u001b[39minstrumental|intro|guitar|solo\u001b[39m\u001b[39m\"\u001b[39m,\u001b[39m\"\u001b[39m\u001b[39m\"\u001b[39m)\n",
      "File \u001b[1;32m~\\lib\\site-packages\\pandas\\core\\frame.py:3024\u001b[0m, in \u001b[0;36mDataFrame.__getitem__\u001b[1;34m(self, key)\u001b[0m\n\u001b[0;32m   <a href='file:///c%3A/Users/cargalau/lib/site-packages/pandas/core/frame.py?line=3021'>3022</a>\u001b[0m \u001b[39mif\u001b[39;00m \u001b[39mself\u001b[39m\u001b[39m.\u001b[39mcolumns\u001b[39m.\u001b[39mnlevels \u001b[39m>\u001b[39m \u001b[39m1\u001b[39m:\n\u001b[0;32m   <a href='file:///c%3A/Users/cargalau/lib/site-packages/pandas/core/frame.py?line=3022'>3023</a>\u001b[0m     \u001b[39mreturn\u001b[39;00m \u001b[39mself\u001b[39m\u001b[39m.\u001b[39m_getitem_multilevel(key)\n\u001b[1;32m-> <a href='file:///c%3A/Users/cargalau/lib/site-packages/pandas/core/frame.py?line=3023'>3024</a>\u001b[0m indexer \u001b[39m=\u001b[39m \u001b[39mself\u001b[39;49m\u001b[39m.\u001b[39;49mcolumns\u001b[39m.\u001b[39;49mget_loc(key)\n\u001b[0;32m   <a href='file:///c%3A/Users/cargalau/lib/site-packages/pandas/core/frame.py?line=3024'>3025</a>\u001b[0m \u001b[39mif\u001b[39;00m is_integer(indexer):\n\u001b[0;32m   <a href='file:///c%3A/Users/cargalau/lib/site-packages/pandas/core/frame.py?line=3025'>3026</a>\u001b[0m     indexer \u001b[39m=\u001b[39m [indexer]\n",
      "File \u001b[1;32m~\\lib\\site-packages\\pandas\\core\\indexes\\base.py:3082\u001b[0m, in \u001b[0;36mIndex.get_loc\u001b[1;34m(self, key, method, tolerance)\u001b[0m\n\u001b[0;32m   <a href='file:///c%3A/Users/cargalau/lib/site-packages/pandas/core/indexes/base.py?line=3079'>3080</a>\u001b[0m         \u001b[39mreturn\u001b[39;00m \u001b[39mself\u001b[39m\u001b[39m.\u001b[39m_engine\u001b[39m.\u001b[39mget_loc(casted_key)\n\u001b[0;32m   <a href='file:///c%3A/Users/cargalau/lib/site-packages/pandas/core/indexes/base.py?line=3080'>3081</a>\u001b[0m     \u001b[39mexcept\u001b[39;00m \u001b[39mKeyError\u001b[39;00m \u001b[39mas\u001b[39;00m err:\n\u001b[1;32m-> <a href='file:///c%3A/Users/cargalau/lib/site-packages/pandas/core/indexes/base.py?line=3081'>3082</a>\u001b[0m         \u001b[39mraise\u001b[39;00m \u001b[39mKeyError\u001b[39;00m(key) \u001b[39mfrom\u001b[39;00m \u001b[39merr\u001b[39;00m\n\u001b[0;32m   <a href='file:///c%3A/Users/cargalau/lib/site-packages/pandas/core/indexes/base.py?line=3083'>3084</a>\u001b[0m \u001b[39mif\u001b[39;00m tolerance \u001b[39mis\u001b[39;00m \u001b[39mnot\u001b[39;00m \u001b[39mNone\u001b[39;00m:\n\u001b[0;32m   <a href='file:///c%3A/Users/cargalau/lib/site-packages/pandas/core/indexes/base.py?line=3084'>3085</a>\u001b[0m     tolerance \u001b[39m=\u001b[39m \u001b[39mself\u001b[39m\u001b[39m.\u001b[39m_convert_tolerance(tolerance, np\u001b[39m.\u001b[39masarray(key))\n",
      "\u001b[1;31mKeyError\u001b[0m: 'lyric'"
     ]
    }
   ],
   "source": [
    "from helpers import *\n",
    "access_token = \"dTEDSEgYrLVPy9VIlmAYjOSfv39HrizCcf2mVKey9D-CkkA9e_gAk6Ve7xEERLue\"\n",
    "df0 = search_data('U2','With or without you',1,access_token)\n",
    "print(df0)\n",
    "df = clean_lyrics(df0,'lyric')\n",
    "df = df[df['lyric'].notnull()]\n",
    "df.to_csv('lyrics.csv',index=False)"
   ]
  },
  {
   "cell_type": "code",
   "execution_count": 4,
   "metadata": {},
   "outputs": [],
   "source": [
    "def unique(list1):\n",
    "   # intilize a null list\n",
    "     unique_list = []\n",
    "   # traverse for all elements\n",
    "     for x in list1:\n",
    "         # check if exists in unique_list or not\n",
    "         if x not in unique_list:\n",
    "              unique_list.append(x)\n",
    "     return unique_list"
   ]
  },
  {
   "cell_type": "code",
   "execution_count": 5,
   "metadata": {},
   "outputs": [
    {
     "data": {
      "text/html": [
       "<div>\n",
       "<style scoped>\n",
       "    .dataframe tbody tr th:only-of-type {\n",
       "        vertical-align: middle;\n",
       "    }\n",
       "\n",
       "    .dataframe tbody tr th {\n",
       "        vertical-align: top;\n",
       "    }\n",
       "\n",
       "    .dataframe thead th {\n",
       "        text-align: right;\n",
       "    }\n",
       "</style>\n",
       "<table border=\"1\" class=\"dataframe\">\n",
       "  <thead>\n",
       "    <tr style=\"text-align: right;\">\n",
       "      <th></th>\n",
       "      <th>artist</th>\n",
       "      <th>title</th>\n",
       "      <th>lyric</th>\n",
       "      <th>words</th>\n",
       "    </tr>\n",
       "  </thead>\n",
       "  <tbody>\n",
       "    <tr>\n",
       "      <th>0</th>\n",
       "      <td>U2</td>\n",
       "      <td>One</td>\n",
       "      <td>one lyrics is it getting better or do you feel...</td>\n",
       "      <td>[one, lyric, getting, better, feel, make, easi...</td>\n",
       "    </tr>\n",
       "    <tr>\n",
       "      <th>1</th>\n",
       "      <td>U2</td>\n",
       "      <td>With or Without You</td>\n",
       "      <td>with or without you lyrics see the stone set i...</td>\n",
       "      <td>[without, lyric, see, stone, set, eye, thorn, ...</td>\n",
       "    </tr>\n",
       "    <tr>\n",
       "      <th>2</th>\n",
       "      <td>U2</td>\n",
       "      <td>I Still Haven’t Found What I’m Looking For</td>\n",
       "      <td>i still havent found what im looking for lyric...</td>\n",
       "      <td>[still, havent, found, im, looking, lyric, cli...</td>\n",
       "    </tr>\n",
       "    <tr>\n",
       "      <th>3</th>\n",
       "      <td>U2</td>\n",
       "      <td>Sunday Bloody Sunday</td>\n",
       "      <td>sunday bloody sunday lyrics yeah mhm   i can't...</td>\n",
       "      <td>[sunday, bloody, lyric, yeah, mhm, cant, belie...</td>\n",
       "    </tr>\n",
       "    <tr>\n",
       "      <th>4</th>\n",
       "      <td>U2</td>\n",
       "      <td>Pride (In the Name of Love)</td>\n",
       "      <td>pride in the name of love lyrics one man come ...</td>\n",
       "      <td>[pride, name, love, lyric, one, man, come, go,...</td>\n",
       "    </tr>\n",
       "  </tbody>\n",
       "</table>\n",
       "</div>"
      ],
      "text/plain": [
       "  artist                                       title  \\\n",
       "0     U2                                         One   \n",
       "1     U2                         With or Without You   \n",
       "2     U2  I Still Haven’t Found What I’m Looking For   \n",
       "3     U2                        Sunday Bloody Sunday   \n",
       "4     U2                 Pride (In the Name of Love)   \n",
       "\n",
       "                                               lyric  \\\n",
       "0  one lyrics is it getting better or do you feel...   \n",
       "1  with or without you lyrics see the stone set i...   \n",
       "2  i still havent found what im looking for lyric...   \n",
       "3  sunday bloody sunday lyrics yeah mhm   i can't...   \n",
       "4  pride in the name of love lyrics one man come ...   \n",
       "\n",
       "                                               words  \n",
       "0  [one, lyric, getting, better, feel, make, easi...  \n",
       "1  [without, lyric, see, stone, set, eye, thorn, ...  \n",
       "2  [still, havent, found, im, looking, lyric, cli...  \n",
       "3  [sunday, bloody, lyric, yeah, mhm, cant, belie...  \n",
       "4  [pride, name, love, lyric, one, man, come, go,...  "
      ]
     },
     "execution_count": 5,
     "metadata": {},
     "output_type": "execute_result"
    }
   ],
   "source": [
    "#Stores unique words of each lyrics song into a new column called words\n",
    "#list used to store the words\n",
    "words = []\n",
    "#iterate trought each lyric and split unique words appending the result into the words list\n",
    "df = df.reset_index(drop=True)\n",
    "for word in df['lyric'].tolist():\n",
    "    words.append(unique(lyrics_to_words(word).split()))\n",
    "#create the new column with the information of words lists\n",
    "df['words'] = words\n",
    "df.head()"
   ]
  },
  {
   "cell_type": "code",
   "execution_count": 6,
   "metadata": {},
   "outputs": [
    {
     "data": {
      "text/html": [
       "<div>\n",
       "<style scoped>\n",
       "    .dataframe tbody tr th:only-of-type {\n",
       "        vertical-align: middle;\n",
       "    }\n",
       "\n",
       "    .dataframe tbody tr th {\n",
       "        vertical-align: top;\n",
       "    }\n",
       "\n",
       "    .dataframe thead th {\n",
       "        text-align: right;\n",
       "    }\n",
       "</style>\n",
       "<table border=\"1\" class=\"dataframe\">\n",
       "  <thead>\n",
       "    <tr style=\"text-align: right;\">\n",
       "      <th></th>\n",
       "      <th>artist</th>\n",
       "      <th>title</th>\n",
       "      <th>lyric</th>\n",
       "      <th>words</th>\n",
       "      <th>negative</th>\n",
       "      <th>neutral</th>\n",
       "      <th>positive</th>\n",
       "      <th>compound</th>\n",
       "    </tr>\n",
       "  </thead>\n",
       "  <tbody>\n",
       "    <tr>\n",
       "      <th>0</th>\n",
       "      <td>U2</td>\n",
       "      <td>One</td>\n",
       "      <td>one lyrics is it getting better or do you feel...</td>\n",
       "      <td>[one, lyric, getting, better, feel, make, easi...</td>\n",
       "      <td>0.091</td>\n",
       "      <td>0.741</td>\n",
       "      <td>0.169</td>\n",
       "      <td>0.9813</td>\n",
       "    </tr>\n",
       "    <tr>\n",
       "      <th>1</th>\n",
       "      <td>U2</td>\n",
       "      <td>With or Without You</td>\n",
       "      <td>with or without you lyrics see the stone set i...</td>\n",
       "      <td>[without, lyric, see, stone, set, eye, thorn, ...</td>\n",
       "      <td>0.022</td>\n",
       "      <td>0.938</td>\n",
       "      <td>0.040</td>\n",
       "      <td>0.0974</td>\n",
       "    </tr>\n",
       "    <tr>\n",
       "      <th>2</th>\n",
       "      <td>U2</td>\n",
       "      <td>I Still Haven’t Found What I’m Looking For</td>\n",
       "      <td>i still havent found what im looking for lyric...</td>\n",
       "      <td>[still, havent, found, im, looking, lyric, cli...</td>\n",
       "      <td>0.095</td>\n",
       "      <td>0.814</td>\n",
       "      <td>0.091</td>\n",
       "      <td>-0.4215</td>\n",
       "    </tr>\n",
       "    <tr>\n",
       "      <th>3</th>\n",
       "      <td>U2</td>\n",
       "      <td>Sunday Bloody Sunday</td>\n",
       "      <td>sunday bloody sunday lyrics yeah mhm   i can't...</td>\n",
       "      <td>[sunday, bloody, lyric, yeah, mhm, cant, belie...</td>\n",
       "      <td>0.295</td>\n",
       "      <td>0.611</td>\n",
       "      <td>0.095</td>\n",
       "      <td>-0.9974</td>\n",
       "    </tr>\n",
       "    <tr>\n",
       "      <th>4</th>\n",
       "      <td>U2</td>\n",
       "      <td>Pride (In the Name of Love)</td>\n",
       "      <td>pride in the name of love lyrics one man come ...</td>\n",
       "      <td>[pride, name, love, lyric, one, man, come, go,...</td>\n",
       "      <td>0.052</td>\n",
       "      <td>0.584</td>\n",
       "      <td>0.364</td>\n",
       "      <td>0.9983</td>\n",
       "    </tr>\n",
       "  </tbody>\n",
       "</table>\n",
       "</div>"
      ],
      "text/plain": [
       "  artist                                       title  \\\n",
       "0     U2                                         One   \n",
       "1     U2                         With or Without You   \n",
       "2     U2  I Still Haven’t Found What I’m Looking For   \n",
       "3     U2                        Sunday Bloody Sunday   \n",
       "4     U2                 Pride (In the Name of Love)   \n",
       "\n",
       "                                               lyric  \\\n",
       "0  one lyrics is it getting better or do you feel...   \n",
       "1  with or without you lyrics see the stone set i...   \n",
       "2  i still havent found what im looking for lyric...   \n",
       "3  sunday bloody sunday lyrics yeah mhm   i can't...   \n",
       "4  pride in the name of love lyrics one man come ...   \n",
       "\n",
       "                                               words  negative  neutral  \\\n",
       "0  [one, lyric, getting, better, feel, make, easi...     0.091    0.741   \n",
       "1  [without, lyric, see, stone, set, eye, thorn, ...     0.022    0.938   \n",
       "2  [still, havent, found, im, looking, lyric, cli...     0.095    0.814   \n",
       "3  [sunday, bloody, lyric, yeah, mhm, cant, belie...     0.295    0.611   \n",
       "4  [pride, name, love, lyric, one, man, come, go,...     0.052    0.584   \n",
       "\n",
       "   positive  compound  \n",
       "0     0.169    0.9813  \n",
       "1     0.040    0.0974  \n",
       "2     0.091   -0.4215  \n",
       "3     0.095   -0.9974  \n",
       "4     0.364    0.9983  "
      ]
     },
     "execution_count": 6,
     "metadata": {},
     "output_type": "execute_result"
    }
   ],
   "source": [
    "negative = []\n",
    "neutral = []\n",
    "positive = []\n",
    "compound = []\n",
    "from nltk.sentiment.vader import SentimentIntensityAnalyzer\n",
    "sid = SentimentIntensityAnalyzer()\n",
    "\n",
    "for i in df.index:\n",
    "    scores = sid.polarity_scores(df['lyric'].iloc[i])\n",
    "    negative.append(scores['neg'])\n",
    "    neutral.append(scores['neu'])\n",
    "    positive.append(scores['pos'])\n",
    "    compound.append(scores['compound'])\n",
    "\n",
    "df['negative'] = negative\n",
    "df['neutral'] = neutral\n",
    "df['positive'] = positive\n",
    "df['compound'] = compound\n",
    "df.head()"
   ]
  },
  {
   "cell_type": "code",
   "execution_count": 12,
   "metadata": {},
   "outputs": [
    {
     "data": {
      "application/vnd.plotly.v1+json": {
       "config": {
        "plotlyServerURL": "https://plot.ly"
       },
       "data": [
        {
         "hovertemplate": "title=One<br>artist=U2<br>positive=%{x}<br>negative=%{y}<extra></extra>",
         "legendgroup": "One, U2",
         "marker": {
          "color": "#636efa",
          "symbol": "circle"
         },
         "mode": "markers",
         "name": "One, U2",
         "orientation": "v",
         "showlegend": true,
         "type": "scatter",
         "x": [
          0.169
         ],
         "xaxis": "x",
         "y": [
          0.091
         ],
         "yaxis": "y"
        },
        {
         "hovertemplate": "title=With or Without You<br>artist=U2<br>positive=%{x}<br>negative=%{y}<extra></extra>",
         "legendgroup": "With or Without You, U2",
         "marker": {
          "color": "#EF553B",
          "symbol": "circle"
         },
         "mode": "markers",
         "name": "With or Without You, U2",
         "orientation": "v",
         "showlegend": true,
         "type": "scatter",
         "x": [
          0.04
         ],
         "xaxis": "x",
         "y": [
          0.022
         ],
         "yaxis": "y"
        },
        {
         "hovertemplate": "title=I Still Haven’t Found What I’m Looking For<br>artist=U2<br>positive=%{x}<br>negative=%{y}<extra></extra>",
         "legendgroup": "I Still Haven’t Found What I’m Looking For, U2",
         "marker": {
          "color": "#00cc96",
          "symbol": "circle"
         },
         "mode": "markers",
         "name": "I Still Haven’t Found What I’m Looking For, U2",
         "orientation": "v",
         "showlegend": true,
         "type": "scatter",
         "x": [
          0.091
         ],
         "xaxis": "x",
         "y": [
          0.095
         ],
         "yaxis": "y"
        },
        {
         "hovertemplate": "title=Sunday Bloody Sunday<br>artist=U2<br>positive=%{x}<br>negative=%{y}<extra></extra>",
         "legendgroup": "Sunday Bloody Sunday, U2",
         "marker": {
          "color": "#ab63fa",
          "symbol": "circle"
         },
         "mode": "markers",
         "name": "Sunday Bloody Sunday, U2",
         "orientation": "v",
         "showlegend": true,
         "type": "scatter",
         "x": [
          0.095
         ],
         "xaxis": "x",
         "y": [
          0.295
         ],
         "yaxis": "y"
        },
        {
         "hovertemplate": "title=Pride (In the Name of Love)<br>artist=U2<br>positive=%{x}<br>negative=%{y}<extra></extra>",
         "legendgroup": "Pride (In the Name of Love), U2",
         "marker": {
          "color": "#FFA15A",
          "symbol": "circle"
         },
         "mode": "markers",
         "name": "Pride (In the Name of Love), U2",
         "orientation": "v",
         "showlegend": true,
         "type": "scatter",
         "x": [
          0.364
         ],
         "xaxis": "x",
         "y": [
          0.052
         ],
         "yaxis": "y"
        },
        {
         "hovertemplate": "title=Beautiful Day<br>artist=U2<br>positive=%{x}<br>negative=%{y}<extra></extra>",
         "legendgroup": "Beautiful Day, U2",
         "marker": {
          "color": "#19d3f3",
          "symbol": "circle"
         },
         "mode": "markers",
         "name": "Beautiful Day, U2",
         "orientation": "v",
         "showlegend": true,
         "type": "scatter",
         "x": [
          0.188
         ],
         "xaxis": "x",
         "y": [
          0.046
         ],
         "yaxis": "y"
        },
        {
         "hovertemplate": "title=Get Out of Your Own Way<br>artist=U2<br>positive=%{x}<br>negative=%{y}<extra></extra>",
         "legendgroup": "Get Out of Your Own Way, U2",
         "marker": {
          "color": "#FF6692",
          "symbol": "circle"
         },
         "mode": "markers",
         "name": "Get Out of Your Own Way, U2",
         "orientation": "v",
         "showlegend": true,
         "type": "scatter",
         "x": [
          0.206
         ],
         "xaxis": "x",
         "y": [
          0.096
         ],
         "yaxis": "y"
        },
        {
         "hovertemplate": "title=Where the Streets Have No Name<br>artist=U2<br>positive=%{x}<br>negative=%{y}<extra></extra>",
         "legendgroup": "Where the Streets Have No Name, U2",
         "marker": {
          "color": "#B6E880",
          "symbol": "circle"
         },
         "mode": "markers",
         "name": "Where the Streets Have No Name, U2",
         "orientation": "v",
         "showlegend": true,
         "type": "scatter",
         "x": [
          0.148
         ],
         "xaxis": "x",
         "y": [
          0.129
         ],
         "yaxis": "y"
        },
        {
         "hovertemplate": "title=Every Breaking Wave<br>artist=U2<br>positive=%{x}<br>negative=%{y}<extra></extra>",
         "legendgroup": "Every Breaking Wave, U2",
         "marker": {
          "color": "#FF97FF",
          "symbol": "circle"
         },
         "mode": "markers",
         "name": "Every Breaking Wave, U2",
         "orientation": "v",
         "showlegend": true,
         "type": "scatter",
         "x": [
          0.118
         ],
         "xaxis": "x",
         "y": [
          0.151
         ],
         "yaxis": "y"
        },
        {
         "hovertemplate": "title=Song for Someone<br>artist=U2<br>positive=%{x}<br>negative=%{y}<extra></extra>",
         "legendgroup": "Song for Someone, U2",
         "marker": {
          "color": "#FECB52",
          "symbol": "circle"
         },
         "mode": "markers",
         "name": "Song for Someone, U2",
         "orientation": "v",
         "showlegend": true,
         "type": "scatter",
         "x": [
          0.025
         ],
         "xaxis": "x",
         "y": [
          0.014
         ],
         "yaxis": "y"
        }
       ],
       "layout": {
        "legend": {
         "title": {
          "text": "title, artist"
         },
         "tracegroupgap": 0
        },
        "margin": {
         "t": 60
        },
        "template": {
         "data": {
          "bar": [
           {
            "error_x": {
             "color": "#2a3f5f"
            },
            "error_y": {
             "color": "#2a3f5f"
            },
            "marker": {
             "line": {
              "color": "#E5ECF6",
              "width": 0.5
             }
            },
            "type": "bar"
           }
          ],
          "barpolar": [
           {
            "marker": {
             "line": {
              "color": "#E5ECF6",
              "width": 0.5
             }
            },
            "type": "barpolar"
           }
          ],
          "carpet": [
           {
            "aaxis": {
             "endlinecolor": "#2a3f5f",
             "gridcolor": "white",
             "linecolor": "white",
             "minorgridcolor": "white",
             "startlinecolor": "#2a3f5f"
            },
            "baxis": {
             "endlinecolor": "#2a3f5f",
             "gridcolor": "white",
             "linecolor": "white",
             "minorgridcolor": "white",
             "startlinecolor": "#2a3f5f"
            },
            "type": "carpet"
           }
          ],
          "choropleth": [
           {
            "colorbar": {
             "outlinewidth": 0,
             "ticks": ""
            },
            "type": "choropleth"
           }
          ],
          "contour": [
           {
            "colorbar": {
             "outlinewidth": 0,
             "ticks": ""
            },
            "colorscale": [
             [
              0,
              "#0d0887"
             ],
             [
              0.1111111111111111,
              "#46039f"
             ],
             [
              0.2222222222222222,
              "#7201a8"
             ],
             [
              0.3333333333333333,
              "#9c179e"
             ],
             [
              0.4444444444444444,
              "#bd3786"
             ],
             [
              0.5555555555555556,
              "#d8576b"
             ],
             [
              0.6666666666666666,
              "#ed7953"
             ],
             [
              0.7777777777777778,
              "#fb9f3a"
             ],
             [
              0.8888888888888888,
              "#fdca26"
             ],
             [
              1,
              "#f0f921"
             ]
            ],
            "type": "contour"
           }
          ],
          "contourcarpet": [
           {
            "colorbar": {
             "outlinewidth": 0,
             "ticks": ""
            },
            "type": "contourcarpet"
           }
          ],
          "heatmap": [
           {
            "colorbar": {
             "outlinewidth": 0,
             "ticks": ""
            },
            "colorscale": [
             [
              0,
              "#0d0887"
             ],
             [
              0.1111111111111111,
              "#46039f"
             ],
             [
              0.2222222222222222,
              "#7201a8"
             ],
             [
              0.3333333333333333,
              "#9c179e"
             ],
             [
              0.4444444444444444,
              "#bd3786"
             ],
             [
              0.5555555555555556,
              "#d8576b"
             ],
             [
              0.6666666666666666,
              "#ed7953"
             ],
             [
              0.7777777777777778,
              "#fb9f3a"
             ],
             [
              0.8888888888888888,
              "#fdca26"
             ],
             [
              1,
              "#f0f921"
             ]
            ],
            "type": "heatmap"
           }
          ],
          "heatmapgl": [
           {
            "colorbar": {
             "outlinewidth": 0,
             "ticks": ""
            },
            "colorscale": [
             [
              0,
              "#0d0887"
             ],
             [
              0.1111111111111111,
              "#46039f"
             ],
             [
              0.2222222222222222,
              "#7201a8"
             ],
             [
              0.3333333333333333,
              "#9c179e"
             ],
             [
              0.4444444444444444,
              "#bd3786"
             ],
             [
              0.5555555555555556,
              "#d8576b"
             ],
             [
              0.6666666666666666,
              "#ed7953"
             ],
             [
              0.7777777777777778,
              "#fb9f3a"
             ],
             [
              0.8888888888888888,
              "#fdca26"
             ],
             [
              1,
              "#f0f921"
             ]
            ],
            "type": "heatmapgl"
           }
          ],
          "histogram": [
           {
            "marker": {
             "colorbar": {
              "outlinewidth": 0,
              "ticks": ""
             }
            },
            "type": "histogram"
           }
          ],
          "histogram2d": [
           {
            "colorbar": {
             "outlinewidth": 0,
             "ticks": ""
            },
            "colorscale": [
             [
              0,
              "#0d0887"
             ],
             [
              0.1111111111111111,
              "#46039f"
             ],
             [
              0.2222222222222222,
              "#7201a8"
             ],
             [
              0.3333333333333333,
              "#9c179e"
             ],
             [
              0.4444444444444444,
              "#bd3786"
             ],
             [
              0.5555555555555556,
              "#d8576b"
             ],
             [
              0.6666666666666666,
              "#ed7953"
             ],
             [
              0.7777777777777778,
              "#fb9f3a"
             ],
             [
              0.8888888888888888,
              "#fdca26"
             ],
             [
              1,
              "#f0f921"
             ]
            ],
            "type": "histogram2d"
           }
          ],
          "histogram2dcontour": [
           {
            "colorbar": {
             "outlinewidth": 0,
             "ticks": ""
            },
            "colorscale": [
             [
              0,
              "#0d0887"
             ],
             [
              0.1111111111111111,
              "#46039f"
             ],
             [
              0.2222222222222222,
              "#7201a8"
             ],
             [
              0.3333333333333333,
              "#9c179e"
             ],
             [
              0.4444444444444444,
              "#bd3786"
             ],
             [
              0.5555555555555556,
              "#d8576b"
             ],
             [
              0.6666666666666666,
              "#ed7953"
             ],
             [
              0.7777777777777778,
              "#fb9f3a"
             ],
             [
              0.8888888888888888,
              "#fdca26"
             ],
             [
              1,
              "#f0f921"
             ]
            ],
            "type": "histogram2dcontour"
           }
          ],
          "mesh3d": [
           {
            "colorbar": {
             "outlinewidth": 0,
             "ticks": ""
            },
            "type": "mesh3d"
           }
          ],
          "parcoords": [
           {
            "line": {
             "colorbar": {
              "outlinewidth": 0,
              "ticks": ""
             }
            },
            "type": "parcoords"
           }
          ],
          "pie": [
           {
            "automargin": true,
            "type": "pie"
           }
          ],
          "scatter": [
           {
            "marker": {
             "colorbar": {
              "outlinewidth": 0,
              "ticks": ""
             }
            },
            "type": "scatter"
           }
          ],
          "scatter3d": [
           {
            "line": {
             "colorbar": {
              "outlinewidth": 0,
              "ticks": ""
             }
            },
            "marker": {
             "colorbar": {
              "outlinewidth": 0,
              "ticks": ""
             }
            },
            "type": "scatter3d"
           }
          ],
          "scattercarpet": [
           {
            "marker": {
             "colorbar": {
              "outlinewidth": 0,
              "ticks": ""
             }
            },
            "type": "scattercarpet"
           }
          ],
          "scattergeo": [
           {
            "marker": {
             "colorbar": {
              "outlinewidth": 0,
              "ticks": ""
             }
            },
            "type": "scattergeo"
           }
          ],
          "scattergl": [
           {
            "marker": {
             "colorbar": {
              "outlinewidth": 0,
              "ticks": ""
             }
            },
            "type": "scattergl"
           }
          ],
          "scattermapbox": [
           {
            "marker": {
             "colorbar": {
              "outlinewidth": 0,
              "ticks": ""
             }
            },
            "type": "scattermapbox"
           }
          ],
          "scatterpolar": [
           {
            "marker": {
             "colorbar": {
              "outlinewidth": 0,
              "ticks": ""
             }
            },
            "type": "scatterpolar"
           }
          ],
          "scatterpolargl": [
           {
            "marker": {
             "colorbar": {
              "outlinewidth": 0,
              "ticks": ""
             }
            },
            "type": "scatterpolargl"
           }
          ],
          "scatterternary": [
           {
            "marker": {
             "colorbar": {
              "outlinewidth": 0,
              "ticks": ""
             }
            },
            "type": "scatterternary"
           }
          ],
          "surface": [
           {
            "colorbar": {
             "outlinewidth": 0,
             "ticks": ""
            },
            "colorscale": [
             [
              0,
              "#0d0887"
             ],
             [
              0.1111111111111111,
              "#46039f"
             ],
             [
              0.2222222222222222,
              "#7201a8"
             ],
             [
              0.3333333333333333,
              "#9c179e"
             ],
             [
              0.4444444444444444,
              "#bd3786"
             ],
             [
              0.5555555555555556,
              "#d8576b"
             ],
             [
              0.6666666666666666,
              "#ed7953"
             ],
             [
              0.7777777777777778,
              "#fb9f3a"
             ],
             [
              0.8888888888888888,
              "#fdca26"
             ],
             [
              1,
              "#f0f921"
             ]
            ],
            "type": "surface"
           }
          ],
          "table": [
           {
            "cells": {
             "fill": {
              "color": "#EBF0F8"
             },
             "line": {
              "color": "white"
             }
            },
            "header": {
             "fill": {
              "color": "#C8D4E3"
             },
             "line": {
              "color": "white"
             }
            },
            "type": "table"
           }
          ]
         },
         "layout": {
          "annotationdefaults": {
           "arrowcolor": "#2a3f5f",
           "arrowhead": 0,
           "arrowwidth": 1
          },
          "autotypenumbers": "strict",
          "coloraxis": {
           "colorbar": {
            "outlinewidth": 0,
            "ticks": ""
           }
          },
          "colorscale": {
           "diverging": [
            [
             0,
             "#8e0152"
            ],
            [
             0.1,
             "#c51b7d"
            ],
            [
             0.2,
             "#de77ae"
            ],
            [
             0.3,
             "#f1b6da"
            ],
            [
             0.4,
             "#fde0ef"
            ],
            [
             0.5,
             "#f7f7f7"
            ],
            [
             0.6,
             "#e6f5d0"
            ],
            [
             0.7,
             "#b8e186"
            ],
            [
             0.8,
             "#7fbc41"
            ],
            [
             0.9,
             "#4d9221"
            ],
            [
             1,
             "#276419"
            ]
           ],
           "sequential": [
            [
             0,
             "#0d0887"
            ],
            [
             0.1111111111111111,
             "#46039f"
            ],
            [
             0.2222222222222222,
             "#7201a8"
            ],
            [
             0.3333333333333333,
             "#9c179e"
            ],
            [
             0.4444444444444444,
             "#bd3786"
            ],
            [
             0.5555555555555556,
             "#d8576b"
            ],
            [
             0.6666666666666666,
             "#ed7953"
            ],
            [
             0.7777777777777778,
             "#fb9f3a"
            ],
            [
             0.8888888888888888,
             "#fdca26"
            ],
            [
             1,
             "#f0f921"
            ]
           ],
           "sequentialminus": [
            [
             0,
             "#0d0887"
            ],
            [
             0.1111111111111111,
             "#46039f"
            ],
            [
             0.2222222222222222,
             "#7201a8"
            ],
            [
             0.3333333333333333,
             "#9c179e"
            ],
            [
             0.4444444444444444,
             "#bd3786"
            ],
            [
             0.5555555555555556,
             "#d8576b"
            ],
            [
             0.6666666666666666,
             "#ed7953"
            ],
            [
             0.7777777777777778,
             "#fb9f3a"
            ],
            [
             0.8888888888888888,
             "#fdca26"
            ],
            [
             1,
             "#f0f921"
            ]
           ]
          },
          "colorway": [
           "#636efa",
           "#EF553B",
           "#00cc96",
           "#ab63fa",
           "#FFA15A",
           "#19d3f3",
           "#FF6692",
           "#B6E880",
           "#FF97FF",
           "#FECB52"
          ],
          "font": {
           "color": "#2a3f5f"
          },
          "geo": {
           "bgcolor": "white",
           "lakecolor": "white",
           "landcolor": "#E5ECF6",
           "showlakes": true,
           "showland": true,
           "subunitcolor": "white"
          },
          "hoverlabel": {
           "align": "left"
          },
          "hovermode": "closest",
          "mapbox": {
           "style": "light"
          },
          "paper_bgcolor": "white",
          "plot_bgcolor": "#E5ECF6",
          "polar": {
           "angularaxis": {
            "gridcolor": "white",
            "linecolor": "white",
            "ticks": ""
           },
           "bgcolor": "#E5ECF6",
           "radialaxis": {
            "gridcolor": "white",
            "linecolor": "white",
            "ticks": ""
           }
          },
          "scene": {
           "xaxis": {
            "backgroundcolor": "#E5ECF6",
            "gridcolor": "white",
            "gridwidth": 2,
            "linecolor": "white",
            "showbackground": true,
            "ticks": "",
            "zerolinecolor": "white"
           },
           "yaxis": {
            "backgroundcolor": "#E5ECF6",
            "gridcolor": "white",
            "gridwidth": 2,
            "linecolor": "white",
            "showbackground": true,
            "ticks": "",
            "zerolinecolor": "white"
           },
           "zaxis": {
            "backgroundcolor": "#E5ECF6",
            "gridcolor": "white",
            "gridwidth": 2,
            "linecolor": "white",
            "showbackground": true,
            "ticks": "",
            "zerolinecolor": "white"
           }
          },
          "shapedefaults": {
           "line": {
            "color": "#2a3f5f"
           }
          },
          "ternary": {
           "aaxis": {
            "gridcolor": "white",
            "linecolor": "white",
            "ticks": ""
           },
           "baxis": {
            "gridcolor": "white",
            "linecolor": "white",
            "ticks": ""
           },
           "bgcolor": "#E5ECF6",
           "caxis": {
            "gridcolor": "white",
            "linecolor": "white",
            "ticks": ""
           }
          },
          "title": {
           "x": 0.05
          },
          "xaxis": {
           "automargin": true,
           "gridcolor": "white",
           "linecolor": "white",
           "ticks": "",
           "title": {
            "standoff": 15
           },
           "zerolinecolor": "white",
           "zerolinewidth": 2
          },
          "yaxis": {
           "automargin": true,
           "gridcolor": "white",
           "linecolor": "white",
           "ticks": "",
           "title": {
            "standoff": 15
           },
           "zerolinecolor": "white",
           "zerolinewidth": 2
          }
         }
        },
        "xaxis": {
         "anchor": "y",
         "domain": [
          0,
          1
         ],
         "range": [
          0,
          0.414
         ],
         "title": {
          "text": "positive"
         }
        },
        "yaxis": {
         "anchor": "x",
         "domain": [
          0,
          1
         ],
         "range": [
          0,
          0.414
         ],
         "title": {
          "text": "negative"
         }
        }
       }
      }
     },
     "metadata": {},
     "output_type": "display_data"
    }
   ],
   "source": [
    "max_range = max(df['positive'].max(),df['negative'].max())\n",
    "max_range += 0.05\n",
    "fig = px.scatter(df,df['positive'], df['negative'],range_x=[0,max_range], range_y=[0,max_range],symbol='artist',color=\"title\")\n",
    "fig.show()"
   ]
  }
 ],
 "metadata": {
  "interpreter": {
   "hash": "cdcc30c90ff47396a7c1776f094a6bde401a3c40641e7da249bfdca42272f71d"
  },
  "kernelspec": {
   "display_name": "Python 3.7.9 64-bit (windows store)",
   "language": "python",
   "name": "python3"
  },
  "language_info": {
   "codemirror_mode": {
    "name": "ipython",
    "version": 3
   },
   "file_extension": ".py",
   "mimetype": "text/x-python",
   "name": "python",
   "nbconvert_exporter": "python",
   "pygments_lexer": "ipython3",
   "version": "3.9.5"
  },
  "orig_nbformat": 4
 },
 "nbformat": 4,
 "nbformat_minor": 2
}
